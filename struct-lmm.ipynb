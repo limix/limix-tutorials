{
 "cells": [
  {
   "cell_type": "markdown",
   "metadata": {},
   "source": [
    "# Struct-LMM tutorial\n",
    "\n",
    "## Basic analysis\n",
    "\n",
    "In this tutorial we showcase basic usage of StructLMM for association and interaction tests.\n",
    "Setting up"
   ]
  },
  {
   "cell_type": "code",
   "execution_count": 1,
   "metadata": {},
   "outputs": [],
   "source": [
    "import os\n",
    "import pandas as pd\n",
    "import scipy as sp\n",
    "from limix_core.util.preprocess import gaussianize\n",
    "from struct_lmm import run_structlmm\n",
    "from pandas_plink import read_plink\n",
    "import geno_sugar as gs\n",
    "from struct_lmm.utils.sugar_utils import norm_env_matrix\n",
    "from limix.qtl import st_sscan\n",
    "\n",
    "random = sp.random.RandomState(1)"
   ]
  },
  {
   "cell_type": "markdown",
   "metadata": {},
   "source": [
    "Download data and unzip"
   ]
  },
  {
   "cell_type": "code",
   "execution_count": 2,
   "metadata": {},
   "outputs": [],
   "source": [
    "gs.download(\"http://rest.s3for.me/limix/struct-lmm/data.zip\")\n",
    "gs.unzip(\"data.zip\")"
   ]
  },
  {
   "cell_type": "markdown",
   "metadata": {},
   "source": [
    "Load bed/bim/fam genotype data using\n",
    "[pandas-plink](https://pandas-plink.readthedocs.io/en/stable/>).\n",
    "For importing bgen genotype files, please refer to the\n",
    "[bgen-reader](https://bgen-reader.readthedocs.io/en/latest/)."
   ]
  },
  {
   "cell_type": "code",
   "execution_count": 3,
   "metadata": {},
   "outputs": [],
   "source": [
    "# import genotype file\n",
    "bedfile = \"data_structlmm/chrom22_subsample20_maf0.10\"\n",
    "(bim, fam, G) = read_plink(bedfile, verbose=False)"
   ]
  },
  {
   "cell_type": "markdown",
   "metadata": {},
   "source": [
    "Subset variants for the demo using the utilities in\n",
    "[geno-sugar](https://geno-sugar.readthedocs.io/en/latest/public.html>).\n",
    "\n",
    "\n",
    "# load SNPs"
   ]
  },
  {
   "cell_type": "code",
   "execution_count": 4,
   "metadata": {},
   "outputs": [
    {
     "name": "stdout",
     "output_type": "stream",
     "text": [
      "(274, 11)\n"
     ]
    }
   ],
   "source": [
    "Isnp = gs.is_in(bim, (\"22\", 17500000, 17510000))\n",
    "G, bim = gs.snp_query(G, bim, Isnp)\n",
    "snps = G.compute().T\n",
    "print(snps.shape)"
   ]
  },
  {
   "cell_type": "markdown",
   "metadata": {},
   "source": [
    "Load phenotype and environment matrix and\n",
    "defines the intercept term for fixed effect covariates.\n",
    "The environment matrix is normalized using the struct-lmmm util\n",
    "[norm_env_matrix](https://struct-lmm.readthedocs.io/en/latest/public.html#struct_lmm.utils.norm_env_matrix)."
   ]
  },
  {
   "cell_type": "code",
   "execution_count": 5,
   "metadata": {},
   "outputs": [
    {
     "name": "stdout",
     "output_type": "stream",
     "text": [
      "(274, 1)\n",
      "(274, 10)\n",
      "(274, 1)\n"
     ]
    }
   ],
   "source": [
    "# load phenotype file\n",
    "phenofile = \"data_structlmm/expr.csv\"\n",
    "dfp = pd.read_csv(phenofile, index_col=0)\n",
    "pheno = gaussianize(dfp.loc[\"gene1\"].values[:, None])\n",
    "# load environment\n",
    "envfile = \"data_structlmm/env.txt\"\n",
    "E = sp.loadtxt(envfile)\n",
    "E = norm_env_matrix(E)\n",
    "# define fixed effect covs\n",
    "covs = sp.ones((E.shape[0], 1))\n",
    "print(pheno.shape)\n",
    "print(E.shape)\n",
    "print(covs.shape)"
   ]
  },
  {
   "cell_type": "markdown",
   "metadata": {},
   "source": [
    "Run Struct-LMM on the set of loaded SNPs using the ``limix.qt.st_sscan`` method."
   ]
  },
  {
   "cell_type": "code",
   "execution_count": 6,
   "metadata": {},
   "outputs": [
    {
     "name": "stdout",
     "output_type": "stream",
     "text": [
      "         pvi       pva\n",
      "0   0.232006  0.367515\n",
      "1   0.088350  0.167881\n",
      "2   0.413224  0.547130\n",
      "3   0.620969  0.847634\n",
      "4   0.495617  0.478851\n",
      "5   0.767304  0.930339\n",
      "6   0.159972  0.282099\n",
      "7   0.257345  0.434580\n",
      "8   0.693577  0.833686\n",
      "9   0.163215  0.282573\n",
      "10  0.741491  0.915180\n"
     ]
    }
   ],
   "source": [
    "# run struct lmm (both interaction and association tests)\n",
    "r = st_sscan(snps, pheno, E, tests=[\"inter\", \"assoc\"], verbose=False)\n",
    "print(r)"
   ]
  },
  {
   "cell_type": "markdown",
   "metadata": {},
   "source": [
    "# Genome-wide analysis with Struct-LMM\n",
    "\n",
    "Here we show how apply StructLMM for a large set of variants, building on the functionalities\n",
    "of the GenoQueue iterator, which supports both bed/bim/fam and bgen genotype files.\n",
    "Follow this [quick-start](https://geno-sugar.readthedocs.io/en/latest/quickstart.html)\n",
    "for a quick tutorial or the [public interface](https://geno-sugar.readthedocs.io/en/latest/public.html).\n",
    "\n",
    "Let's define the set of variant filters and preprocessig functions for the analysis:"
   ]
  },
  {
   "cell_type": "code",
   "execution_count": 7,
   "metadata": {},
   "outputs": [],
   "source": [
    "from sklearn.impute import SimpleImputer\n",
    "import geno_sugar.preprocess as prep\n",
    "imputer = SimpleImputer(missing_values=sp.nan, strategy=\"mean\")\n",
    "preprocess = prep.compose(\n",
    "    [\n",
    "        prep.filter_by_missing(max_miss=0.10),\n",
    "        prep.impute(imputer),\n",
    "        prep.filter_by_maf(min_maf=0.10),\n",
    "        prep.standardize(),\n",
    "    ]\n",
    ")"
   ]
  },
  {
   "cell_type": "markdown",
   "metadata": {},
   "source": [
    "We use the genotype queue iterator to perform the analysis.\n",
    "This is an example for a small number of variants, for which we set batch_size=1.\n",
    "In a real-world application the user should set a larger batch_size.\n",
    "A batch size of hundreds/thousands of variants is recommended."
   ]
  },
  {
   "cell_type": "code",
   "execution_count": 8,
   "metadata": {},
   "outputs": [
    {
     "name": "stdout",
     "output_type": "stream",
     "text": [
      ".. read 1 / 11 variants (9.09%)\n",
      ".. read 2 / 11 variants (18.18%)\n",
      ".. read 3 / 11 variants (27.27%)\n",
      ".. read 4 / 11 variants (36.36%)\n",
      ".. read 5 / 11 variants (45.45%)\n",
      ".. read 6 / 11 variants (54.55%)\n",
      ".. read 7 / 11 variants (63.64%)\n",
      ".. read 8 / 11 variants (72.73%)\n",
      ".. read 9 / 11 variants (81.82%)\n",
      ".. read 10 / 11 variants (90.91%)\n",
      ".. read 11 / 11 variants (100.00%)\n",
      "   chrom          snp   cm       pos a0 a1  i\n",
      "0     22   rs17204993  0.0  17500036  C  T  0\n",
      "1     22    rs2399166  0.0  17501647  T  C  0\n",
      "2     22   rs62237458  0.0  17502191  A  G  0\n",
      "3     22    rs5994134  0.0  17503328  A  C  0\n",
      "4     22    rs9605194  0.0  17503403  A  G  0\n",
      "5     22    rs9606574  0.0  17504281  A  G  0\n",
      "6     22    rs2399168  0.0  17504945  A  C  0\n",
      "7     22    rs4819944  0.0  17505406  C  G  0\n",
      "8     22    rs2399177  0.0  17506364  T  C  0\n",
      "9     22   rs75200296  0.0  17508245  T  C  0\n",
      "10    22  rs141426282  0.0  17509984  T  C  0\n"
     ]
    }
   ],
   "source": [
    "res = []\n",
    "queue = gs.GenoQueue(G, bim, batch_size=1, preprocess=preprocess)\n",
    "for _G, _bim in queue:\n",
    "    r = st_sscan(_G, pheno, E, tests=[\"inter\", \"assoc\"], verbose=False)\n",
    "    # append results\n",
    "    res.append(_bim)\n",
    "# concatenate results\n",
    "res = pd.concat(res).reset_index(drop=True)\n",
    "print(res)"
   ]
  },
  {
   "cell_type": "markdown",
   "metadata": {},
   "source": [
    "# Interpretation Tools in StructLMM\n",
    "\n",
    "This example shows how to run BF."
   ]
  },
  {
   "cell_type": "code",
   "execution_count": 9,
   "metadata": {},
   "outputs": [
    {
     "data": {
      "text/plain": [
       "'0.03014'"
      ]
     },
     "execution_count": 9,
     "metadata": {},
     "output_type": "execute_result"
    }
   ],
   "source": [
    "from numpy.random import RandomState\n",
    "import scipy as sp\n",
    "from limix.model.struct_lmm import BF\n",
    "random = RandomState(1)\n",
    "\n",
    "# generate data\n",
    "n = 50 # number samples\n",
    "k1 = 10 # number environments for model 1\n",
    "k2 = 0 # number environments for model 2\n",
    "\n",
    "y = random.randn(n, 1) # phenotype\n",
    "x = 1. * (random.rand(n, 1) < 0.2) # genotype\n",
    "E1 = random.randn(n, k1) # environemnts 1\n",
    "E2 = random.randn(n, k2) # environemnts 1\n",
    "covs = sp.ones((n, 1)) # intercept\n",
    "\n",
    "bf = BF(y, x, F = covs, Env1 = E1, Env2 = E2, W=E1)\n",
    "\"{:.5f}\".format(bf.calc_bf())"
   ]
  },
  {
   "cell_type": "markdown",
   "metadata": {},
   "source": [
    "This example shows how to run OptimalRho."
   ]
  },
  {
   "cell_type": "code",
   "execution_count": 10,
   "metadata": {},
   "outputs": [
    {
     "data": {
      "text/plain": [
       "'0.62379'"
      ]
     },
     "execution_count": 10,
     "metadata": {},
     "output_type": "execute_result"
    }
   ],
   "source": [
    "from numpy.random import RandomState\n",
    "import scipy as sp\n",
    "from limix.model.struct_lmm import OptimalRho\n",
    "random = RandomState(1)\n",
    "\n",
    "# generate data\n",
    "n = 50 # number samples\n",
    "k = 20 # number environments\n",
    "\n",
    "y = random.randn(n, 1) # phenotype\n",
    "x = 1. * (random.rand(n, 1) < 0.2) # genotype\n",
    "E = random.randn(n, k) # environemnts\n",
    "covs = sp.ones((n, 1)) # intercept\n",
    "\n",
    "rho = OptimalRho(y, x, F = covs, Env = E, W=E)\n",
    "\"{:.5f}\".format(rho.calc_opt_rho())"
   ]
  },
  {
   "cell_type": "markdown",
   "metadata": {},
   "source": [
    "This example shows how to run PredictGenEffect."
   ]
  },
  {
   "cell_type": "code",
   "execution_count": 11,
   "metadata": {},
   "outputs": [
    {
     "name": "stdout",
     "output_type": "stream",
     "text": [
      "[-0.22835776]\n",
      "[[-0.00778234]\n",
      " [-0.04681788]\n",
      " [-0.02912152]\n",
      " [ 0.03897581]\n",
      " [ 0.1037293 ]]\n",
      "[[-0.0177422 ]\n",
      " [-0.10673557]\n",
      " [-0.06639135]\n",
      " [ 0.08885721]\n",
      " [ 0.23648244]]\n",
      "[[-0.24609996]\n",
      " [-0.33509333]\n",
      " [-0.29474911]\n",
      " [-0.13950055]\n",
      " [ 0.00812468]]\n"
     ]
    }
   ],
   "source": [
    "from numpy.random import RandomState\n",
    "import scipy as sp\n",
    "from limix.model.struct_lmm import PredictGenEffect\n",
    "random = RandomState(1)\n",
    "\n",
    "# generate data\n",
    "n = 100 # number samples\n",
    "k = 10 # number environments\n",
    "\n",
    "y = random.randn(n, 1) # phenotype\n",
    "x = 1. * (random.rand(n, 1) < 0.2) # genotype\n",
    "E = random.randn(n, k) # environemnts\n",
    "covs = sp.ones((n, 1)) # intercept\n",
    "\n",
    "effect = PredictGenEffect(y, x, F = covs, TrainingEnv = E, W=E)\n",
    "persistent_effect = effect.train_model()\n",
    "aggregate_environment = effect.predict_aggregate_environment()\n",
    "gxe_effect = effect.predict_gxe_effect()\n",
    "total_gen_effect = effect.predict_total_gen_effect()\n",
    "# print persistent allelic effect which is the same for all individuals\n",
    "print(persistent_effect)\n",
    "# print aggregate environment for first 5 individuals\n",
    "print(aggregate_environment[0:5])\n",
    "# print GxE allelic effect for first 5 individuals\n",
    "print(gxe_effect[0:5])\n",
    "# print total allelic effect for first 5 individuals\n",
    "print(total_gen_effect[0:5])"
   ]
  },
  {
   "cell_type": "markdown",
   "metadata": {},
   "source": [
    "## Cleaning up"
   ]
  },
  {
   "cell_type": "code",
   "execution_count": 12,
   "metadata": {},
   "outputs": [],
   "source": [
    "from limix.sh import remove\n",
    "\n",
    "remove(\"data_structlmm/chrom22_subsample20_maf0.10.bed\")\n",
    "remove(\"data_structlmm/chrom22_subsample20_maf0.10.bim\")\n",
    "remove(\"data_structlmm/chrom22_subsample20_maf0.10.fam\")\n",
    "remove(\"data_structlmm/env.txt\")\n",
    "remove(\"data_structlmm/expr.csv\")\n",
    "remove(\"data.zip\")"
   ]
  }
 ],
 "metadata": {
  "kernelspec": {
   "display_name": "Python 3",
   "language": "python",
   "name": "python3"
  },
  "language_info": {
   "codemirror_mode": {
    "name": "ipython",
    "version": 3
   },
   "file_extension": ".py",
   "mimetype": "text/x-python",
   "name": "python",
   "nbconvert_exporter": "python",
   "pygments_lexer": "ipython3",
   "version": "3.7.2"
  }
 },
 "nbformat": 4,
 "nbformat_minor": 2
}
